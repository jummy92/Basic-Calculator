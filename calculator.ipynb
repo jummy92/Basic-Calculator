{
 "cells": [
  {
   "cell_type": "code",
   "execution_count": null,
   "id": "646a1aae",
   "metadata": {},
   "outputs": [
    {
     "name": "stdout",
     "output_type": "stream",
     "text": [
      "This program is a calculator that takes in numbers and performs the operations below:/n1) Addition\n",
      "2) Substration\n",
      "3) Multiplication\n",
      "4) Division/n4\n"
     ]
    }
   ],
   "source": [
    "print('This program is a calculator that takes in numbers and performs the operations below:/n1) Addition\\n2) Substration\\n3) Multiplication\\n4) Division/n4')\n",
    "      \n",
    "op = input(\"Enter '+' for Addition\\n '-' for Substraction\\n '*' for Multiplication\\n '/' for Division\\n \")\n",
    "\n",
    "x = int(input('Enter first number -->'))\n",
    "y = int(input('Enter second number -->'))\n",
    "\n",
    "if op == '+':\n",
    "    print(f'{x} + {y} = {x+y}')\n",
    "elif op == '-':\n",
    "    print(f'{x} - {y} = {x-y}')\n",
    "elif op == '*':\n",
    "    print(f'{x} * {y} = {x*y}')\n",
    "elif op == '/':\n",
    "    print(f'{x} / {y} = {x/y}')\n",
    "else:\n",
    "    print('You entered the wrong command. Re-run this program')"
   ]
  },
  {
   "cell_type": "code",
   "execution_count": null,
   "id": "ba6a2ee6",
   "metadata": {},
   "outputs": [],
   "source": []
  }
 ],
 "metadata": {
  "kernelspec": {
   "display_name": "Python 3 (ipykernel)",
   "language": "python",
   "name": "python3"
  },
  "language_info": {
   "codemirror_mode": {
    "name": "ipython",
    "version": 3
   },
   "file_extension": ".py",
   "mimetype": "text/x-python",
   "name": "python",
   "nbconvert_exporter": "python",
   "pygments_lexer": "ipython3",
   "version": "3.9.12"
  }
 },
 "nbformat": 4,
 "nbformat_minor": 5
}
